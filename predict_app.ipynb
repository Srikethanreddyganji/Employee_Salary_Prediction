{
 "cells": [
  {
   "cell_type": "code",
   "execution_count": 1,
   "id": "ed42929f-37a1-4eec-8f19-be7b450c1e69",
   "metadata": {},
   "outputs": [],
   "source": [
    "import joblib\n",
    "import numpy as np"
   ]
  },
  {
   "cell_type": "code",
   "execution_count": 2,
   "id": "f0bd2572-033b-48b3-aef4-66bf7bb52f6c",
   "metadata": {},
   "outputs": [],
   "source": [
    "model = joblib.load(\"best_model.pkl\")\n",
    "encoders = joblib.load(\"encoders.pkl\")\n",
    "target_encoder = joblib.load(\"target_encoder.pkl\")"
   ]
  },
  {
   "cell_type": "code",
   "execution_count": 3,
   "id": "9867ad19-b234-439b-8ae9-22b6c294cc6c",
   "metadata": {},
   "outputs": [],
   "source": [
    "education = \"Bachelors\"\n",
    "occupation = \"Tech-support\"\n",
    "gender = \"Male\"\n",
    "hours_per_week = 40"
   ]
  },
  {
   "cell_type": "code",
   "execution_count": 4,
   "id": "fc029eec-5aa4-4d6f-92c8-88d4e073675d",
   "metadata": {},
   "outputs": [],
   "source": [
    "edu_encoded = encoders['education'].transform([education])[0]\n",
    "occ_encoded = encoders['occupation'].transform([occupation])[0]\n",
    "gen_encoded = encoders['gender'].transform([gender])[0]"
   ]
  },
  {
   "cell_type": "code",
   "execution_count": 6,
   "id": "b80eaeaa-2305-4ed1-915e-16ad66b1b365",
   "metadata": {},
   "outputs": [],
   "source": [
    "import pandas as pd\n",
    "\n",
    "input_data = pd.DataFrame([{\n",
    "    'education': edu_encoded,\n",
    "    'occupation': occ_encoded,\n",
    "    'gender': gen_encoded,\n",
    "    'hours-per-week': hours_per_week\n",
    "}])\n",
    "\n",
    "prediction = model.predict(input_data)\n"
   ]
  },
  {
   "cell_type": "code",
   "execution_count": 7,
   "id": "d6c16907-0a42-446e-beda-c02b821b12ae",
   "metadata": {},
   "outputs": [
    {
     "name": "stdout",
     "output_type": "stream",
     "text": [
      "Predicted Income Class: <=50K\n"
     ]
    }
   ],
   "source": [
    "predicted_income = target_encoder.inverse_transform(prediction)[0]\n",
    "print(f\"Predicted Income Class: {predicted_income}\")\n"
   ]
  },
  {
   "cell_type": "code",
   "execution_count": null,
   "id": "f2f2ec0c-ba85-4d6f-9611-e839ef7a8d13",
   "metadata": {},
   "outputs": [],
   "source": []
  }
 ],
 "metadata": {
  "kernelspec": {
   "display_name": "Python 3 (ipykernel)",
   "language": "python",
   "name": "python3"
  },
  "language_info": {
   "codemirror_mode": {
    "name": "ipython",
    "version": 3
   },
   "file_extension": ".py",
   "mimetype": "text/x-python",
   "name": "python",
   "nbconvert_exporter": "python",
   "pygments_lexer": "ipython3",
   "version": "3.12.4"
  }
 },
 "nbformat": 4,
 "nbformat_minor": 5
}
